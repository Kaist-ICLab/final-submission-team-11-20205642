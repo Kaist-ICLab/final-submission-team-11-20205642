{
 "cells": [
  {
   "cell_type": "markdown",
   "id": "2c15f1a6-c501-4550-b83a-f93e2045fe71",
   "metadata": {},
   "source": [
    "# Example Use Cases of ***Tiny-TimeNAS***\n",
    "\n",
    "This notebook demonstrates the Python API of `Tiny-TimeNAS` package with step-by-step guidelines for **2** mainstream time-series applications on an IoT device, i.e., Arduino Nano 33 BLE Sense Lite."
   ]
  },
  {
   "cell_type": "markdown",
   "id": "a6f55f74-d4fa-42ef-9a30-92cfd0fd63f9",
   "metadata": {},
   "source": [
    "## 0. Setup and Configuration\n",
    "\n",
    "Install required dependencies and import necessary packages and libraries."
   ]
  },
  {
   "cell_type": "code",
   "execution_count": 1,
   "id": "2111d6c8-34f4-46b3-b99e-883e4926d144",
   "metadata": {
    "scrolled": true
   },
   "outputs": [
    {
     "name": "stdout",
     "output_type": "stream",
     "text": [
      "Requirement already satisfied: tensorflow in /home/patara/miniconda3/envs/TinyTimeNAS/lib/python3.9/site-packages (2.10.0)\n",
      "Requirement already satisfied: pandas in /home/patara/miniconda3/envs/TinyTimeNAS/lib/python3.9/site-packages (1.5.3)\n",
      "Requirement already satisfied: numpy in /home/patara/miniconda3/envs/TinyTimeNAS/lib/python3.9/site-packages (1.22.4)\n",
      "Requirement already satisfied: scikit-learn in /home/patara/miniconda3/envs/TinyTimeNAS/lib/python3.9/site-packages (1.2.2)\n",
      "Requirement already satisfied: sktime in /home/patara/miniconda3/envs/TinyTimeNAS/lib/python3.9/site-packages (0.18.1)\n",
      "Requirement already satisfied: silabs-mltk in /home/patara/miniconda3/envs/TinyTimeNAS/lib/python3.9/site-packages (0.16.0)\n",
      "Requirement already satisfied: tflite-runtime in /home/patara/miniconda3/envs/TinyTimeNAS/lib/python3.9/site-packages (2.10.0)\n",
      "Requirement already satisfied: absl-py>=1.0.0 in /home/patara/miniconda3/envs/TinyTimeNAS/lib/python3.9/site-packages (from tensorflow) (1.4.0)\n",
      "Requirement already satisfied: astunparse>=1.6.0 in /home/patara/miniconda3/envs/TinyTimeNAS/lib/python3.9/site-packages (from tensorflow) (1.6.3)\n",
      "Requirement already satisfied: flatbuffers>=2.0 in /home/patara/miniconda3/envs/TinyTimeNAS/lib/python3.9/site-packages (from tensorflow) (23.5.26)\n",
      "Requirement already satisfied: gast<=0.4.0,>=0.2.1 in /home/patara/miniconda3/envs/TinyTimeNAS/lib/python3.9/site-packages (from tensorflow) (0.4.0)\n",
      "Requirement already satisfied: google-pasta>=0.1.1 in /home/patara/miniconda3/envs/TinyTimeNAS/lib/python3.9/site-packages (from tensorflow) (0.2.0)\n",
      "Requirement already satisfied: grpcio<2.0,>=1.24.3 in /home/patara/miniconda3/envs/TinyTimeNAS/lib/python3.9/site-packages (from tensorflow) (1.54.2)\n",
      "Requirement already satisfied: h5py>=2.9.0 in /home/patara/miniconda3/envs/TinyTimeNAS/lib/python3.9/site-packages (from tensorflow) (3.8.0)\n",
      "Requirement already satisfied: keras<2.11,>=2.10.0 in /home/patara/miniconda3/envs/TinyTimeNAS/lib/python3.9/site-packages (from tensorflow) (2.10.0)\n",
      "Requirement already satisfied: keras-preprocessing>=1.1.1 in /home/patara/miniconda3/envs/TinyTimeNAS/lib/python3.9/site-packages (from tensorflow) (1.1.2)\n",
      "Requirement already satisfied: libclang>=13.0.0 in /home/patara/miniconda3/envs/TinyTimeNAS/lib/python3.9/site-packages (from tensorflow) (16.0.0)\n",
      "Requirement already satisfied: opt-einsum>=2.3.2 in /home/patara/miniconda3/envs/TinyTimeNAS/lib/python3.9/site-packages (from tensorflow) (3.3.0)\n",
      "Requirement already satisfied: packaging in /home/patara/miniconda3/envs/TinyTimeNAS/lib/python3.9/site-packages (from tensorflow) (23.1)\n",
      "Requirement already satisfied: protobuf<3.20,>=3.9.2 in /home/patara/miniconda3/envs/TinyTimeNAS/lib/python3.9/site-packages (from tensorflow) (3.19.6)\n",
      "Requirement already satisfied: setuptools in /home/patara/miniconda3/envs/TinyTimeNAS/lib/python3.9/site-packages (from tensorflow) (67.8.0)\n",
      "Requirement already satisfied: six>=1.12.0 in /home/patara/miniconda3/envs/TinyTimeNAS/lib/python3.9/site-packages (from tensorflow) (1.16.0)\n",
      "Requirement already satisfied: tensorboard<2.11,>=2.10 in /home/patara/miniconda3/envs/TinyTimeNAS/lib/python3.9/site-packages (from tensorflow) (2.10.1)\n",
      "Requirement already satisfied: tensorflow-io-gcs-filesystem>=0.23.1 in /home/patara/miniconda3/envs/TinyTimeNAS/lib/python3.9/site-packages (from tensorflow) (0.32.0)\n",
      "Requirement already satisfied: tensorflow-estimator<2.11,>=2.10.0 in /home/patara/miniconda3/envs/TinyTimeNAS/lib/python3.9/site-packages (from tensorflow) (2.10.0)\n",
      "Requirement already satisfied: termcolor>=1.1.0 in /home/patara/miniconda3/envs/TinyTimeNAS/lib/python3.9/site-packages (from tensorflow) (2.3.0)\n",
      "Requirement already satisfied: typing-extensions>=3.6.6 in /home/patara/miniconda3/envs/TinyTimeNAS/lib/python3.9/site-packages (from tensorflow) (4.6.2)\n",
      "Requirement already satisfied: wrapt>=1.11.0 in /home/patara/miniconda3/envs/TinyTimeNAS/lib/python3.9/site-packages (from tensorflow) (1.14.1)\n",
      "Requirement already satisfied: python-dateutil>=2.8.1 in /home/patara/miniconda3/envs/TinyTimeNAS/lib/python3.9/site-packages (from pandas) (2.8.2)\n",
      "Requirement already satisfied: pytz>=2020.1 in /home/patara/miniconda3/envs/TinyTimeNAS/lib/python3.9/site-packages (from pandas) (2023.3)\n",
      "Requirement already satisfied: scipy>=1.3.2 in /home/patara/miniconda3/envs/TinyTimeNAS/lib/python3.9/site-packages (from scikit-learn) (1.10.1)\n",
      "Requirement already satisfied: joblib>=1.1.1 in /home/patara/miniconda3/envs/TinyTimeNAS/lib/python3.9/site-packages (from scikit-learn) (1.2.0)\n",
      "Requirement already satisfied: threadpoolctl>=2.0.0 in /home/patara/miniconda3/envs/TinyTimeNAS/lib/python3.9/site-packages (from scikit-learn) (3.1.0)\n",
      "Requirement already satisfied: deprecated>=1.2.13 in /home/patara/miniconda3/envs/TinyTimeNAS/lib/python3.9/site-packages (from sktime) (1.2.14)\n",
      "Requirement already satisfied: scikit-base<0.5.0 in /home/patara/miniconda3/envs/TinyTimeNAS/lib/python3.9/site-packages (from sktime) (0.4.5)\n",
      "Requirement already satisfied: typer<1.0 in /home/patara/miniconda3/envs/TinyTimeNAS/lib/python3.9/site-packages (from silabs-mltk) (0.9.0)\n",
      "Requirement already satisfied: pytest in /home/patara/miniconda3/envs/TinyTimeNAS/lib/python3.9/site-packages (from silabs-mltk) (7.3.1)\n",
      "Requirement already satisfied: pytest-dependency in /home/patara/miniconda3/envs/TinyTimeNAS/lib/python3.9/site-packages (from silabs-mltk) (0.5.1)\n",
      "Requirement already satisfied: pytest-html-reporter in /home/patara/miniconda3/envs/TinyTimeNAS/lib/python3.9/site-packages (from silabs-mltk) (0.2.9)\n",
      "Requirement already satisfied: cmake in /home/patara/miniconda3/envs/TinyTimeNAS/lib/python3.9/site-packages (from silabs-mltk) (3.26.3)\n",
      "Requirement already satisfied: ninja in /home/patara/miniconda3/envs/TinyTimeNAS/lib/python3.9/site-packages (from silabs-mltk) (1.11.1)\n",
      "Requirement already satisfied: psutil in /home/patara/miniconda3/envs/TinyTimeNAS/lib/python3.9/site-packages (from silabs-mltk) (5.9.5)\n",
      "Requirement already satisfied: pyaml<22.0 in /home/patara/miniconda3/envs/TinyTimeNAS/lib/python3.9/site-packages (from silabs-mltk) (21.10.1)\n",
      "Requirement already satisfied: tensorflow-probability>=0.12.2 in /home/patara/miniconda3/envs/TinyTimeNAS/lib/python3.9/site-packages (from silabs-mltk) (0.20.1)\n",
      "Requirement already satisfied: tflite-support in /home/patara/miniconda3/envs/TinyTimeNAS/lib/python3.9/site-packages (from silabs-mltk) (0.4.3)\n",
      "Requirement already satisfied: onnx<1.11 in /home/patara/miniconda3/envs/TinyTimeNAS/lib/python3.9/site-packages (from silabs-mltk) (1.10.2)\n",
      "Requirement already satisfied: onnxruntime<1.11 in /home/patara/miniconda3/envs/TinyTimeNAS/lib/python3.9/site-packages (from silabs-mltk) (1.10.0)\n",
      "Requirement already satisfied: matplotlib<4.0 in /home/patara/miniconda3/envs/TinyTimeNAS/lib/python3.9/site-packages (from silabs-mltk) (3.7.1)\n",
      "Requirement already satisfied: tqdm<5.0 in /home/patara/miniconda3/envs/TinyTimeNAS/lib/python3.9/site-packages (from silabs-mltk) (4.65.0)\n",
      "Requirement already satisfied: pillow<9.0 in /home/patara/miniconda3/envs/TinyTimeNAS/lib/python3.9/site-packages (from silabs-mltk) (8.4.0)\n",
      "Requirement already satisfied: librosa<1.0 in /home/patara/miniconda3/envs/TinyTimeNAS/lib/python3.9/site-packages (from silabs-mltk) (0.10.0.post2)\n",
      "Requirement already satisfied: bincopy<18.0 in /home/patara/miniconda3/envs/TinyTimeNAS/lib/python3.9/site-packages (from silabs-mltk) (17.14.5)\n",
      "Requirement already satisfied: pyserial<4.0 in /home/patara/miniconda3/envs/TinyTimeNAS/lib/python3.9/site-packages (from silabs-mltk) (3.5)\n",
      "Requirement already satisfied: GPUtil<2.0 in /home/patara/miniconda3/envs/TinyTimeNAS/lib/python3.9/site-packages (from silabs-mltk) (1.4.0)\n",
      "Requirement already satisfied: patool==1.12 in /home/patara/miniconda3/envs/TinyTimeNAS/lib/python3.9/site-packages (from silabs-mltk) (1.12)\n",
      "Requirement already satisfied: prettytable<3.0,>=2.0 in /home/patara/miniconda3/envs/TinyTimeNAS/lib/python3.9/site-packages (from silabs-mltk) (2.5.0)\n",
      "Requirement already satisfied: msgpack in /home/patara/miniconda3/envs/TinyTimeNAS/lib/python3.9/site-packages (from silabs-mltk) (1.0.5)\n",
      "Requirement already satisfied: wheel<1.0,>=0.23.0 in /home/patara/miniconda3/envs/TinyTimeNAS/lib/python3.9/site-packages (from astunparse>=1.6.0->tensorflow) (0.38.4)\n",
      "Requirement already satisfied: humanfriendly in /home/patara/miniconda3/envs/TinyTimeNAS/lib/python3.9/site-packages (from bincopy<18.0->silabs-mltk) (10.0)\n",
      "Requirement already satisfied: argparse-addons>=0.4.0 in /home/patara/miniconda3/envs/TinyTimeNAS/lib/python3.9/site-packages (from bincopy<18.0->silabs-mltk) (0.12.0)\n",
      "Requirement already satisfied: pyelftools in /home/patara/miniconda3/envs/TinyTimeNAS/lib/python3.9/site-packages (from bincopy<18.0->silabs-mltk) (0.29)\n",
      "Requirement already satisfied: audioread>=2.1.9 in /home/patara/miniconda3/envs/TinyTimeNAS/lib/python3.9/site-packages (from librosa<1.0->silabs-mltk) (3.0.0)\n",
      "Requirement already satisfied: decorator>=4.3.0 in /home/patara/miniconda3/envs/TinyTimeNAS/lib/python3.9/site-packages (from librosa<1.0->silabs-mltk) (5.1.1)\n",
      "Requirement already satisfied: numba>=0.51.0 in /home/patara/miniconda3/envs/TinyTimeNAS/lib/python3.9/site-packages (from librosa<1.0->silabs-mltk) (0.57.0)\n",
      "Requirement already satisfied: soundfile>=0.12.1 in /home/patara/miniconda3/envs/TinyTimeNAS/lib/python3.9/site-packages (from librosa<1.0->silabs-mltk) (0.12.1)\n",
      "Requirement already satisfied: pooch<1.7,>=1.0 in /home/patara/miniconda3/envs/TinyTimeNAS/lib/python3.9/site-packages (from librosa<1.0->silabs-mltk) (1.6.0)\n",
      "Requirement already satisfied: soxr>=0.3.2 in /home/patara/miniconda3/envs/TinyTimeNAS/lib/python3.9/site-packages (from librosa<1.0->silabs-mltk) (0.3.5)\n",
      "Requirement already satisfied: lazy-loader>=0.1 in /home/patara/miniconda3/envs/TinyTimeNAS/lib/python3.9/site-packages (from librosa<1.0->silabs-mltk) (0.2)\n",
      "Requirement already satisfied: contourpy>=1.0.1 in /home/patara/miniconda3/envs/TinyTimeNAS/lib/python3.9/site-packages (from matplotlib<4.0->silabs-mltk) (1.0.7)\n",
      "Requirement already satisfied: cycler>=0.10 in /home/patara/miniconda3/envs/TinyTimeNAS/lib/python3.9/site-packages (from matplotlib<4.0->silabs-mltk) (0.11.0)\n",
      "Requirement already satisfied: fonttools>=4.22.0 in /home/patara/miniconda3/envs/TinyTimeNAS/lib/python3.9/site-packages (from matplotlib<4.0->silabs-mltk) (4.39.4)\n",
      "Requirement already satisfied: kiwisolver>=1.0.1 in /home/patara/miniconda3/envs/TinyTimeNAS/lib/python3.9/site-packages (from matplotlib<4.0->silabs-mltk) (1.4.4)\n",
      "Requirement already satisfied: pyparsing>=2.3.1 in /home/patara/miniconda3/envs/TinyTimeNAS/lib/python3.9/site-packages (from matplotlib<4.0->silabs-mltk) (3.0.9)\n",
      "Requirement already satisfied: importlib-resources>=3.2.0 in /home/patara/miniconda3/envs/TinyTimeNAS/lib/python3.9/site-packages (from matplotlib<4.0->silabs-mltk) (5.12.0)\n",
      "Requirement already satisfied: wcwidth in /home/patara/miniconda3/envs/TinyTimeNAS/lib/python3.9/site-packages (from prettytable<3.0,>=2.0->silabs-mltk) (0.2.6)\n",
      "Requirement already satisfied: PyYAML in /home/patara/miniconda3/envs/TinyTimeNAS/lib/python3.9/site-packages (from pyaml<22.0->silabs-mltk) (6.0)\n",
      "Requirement already satisfied: google-auth<3,>=1.6.3 in /home/patara/miniconda3/envs/TinyTimeNAS/lib/python3.9/site-packages (from tensorboard<2.11,>=2.10->tensorflow) (2.19.0)\n",
      "Requirement already satisfied: google-auth-oauthlib<0.5,>=0.4.1 in /home/patara/miniconda3/envs/TinyTimeNAS/lib/python3.9/site-packages (from tensorboard<2.11,>=2.10->tensorflow) (0.4.6)\n",
      "Requirement already satisfied: markdown>=2.6.8 in /home/patara/miniconda3/envs/TinyTimeNAS/lib/python3.9/site-packages (from tensorboard<2.11,>=2.10->tensorflow) (3.4.3)\n",
      "Requirement already satisfied: requests<3,>=2.21.0 in /home/patara/miniconda3/envs/TinyTimeNAS/lib/python3.9/site-packages (from tensorboard<2.11,>=2.10->tensorflow) (2.31.0)\n",
      "Requirement already satisfied: tensorboard-data-server<0.7.0,>=0.6.0 in /home/patara/miniconda3/envs/TinyTimeNAS/lib/python3.9/site-packages (from tensorboard<2.11,>=2.10->tensorflow) (0.6.1)\n",
      "Requirement already satisfied: tensorboard-plugin-wit>=1.6.0 in /home/patara/miniconda3/envs/TinyTimeNAS/lib/python3.9/site-packages (from tensorboard<2.11,>=2.10->tensorflow) (1.8.1)\n",
      "Requirement already satisfied: werkzeug>=1.0.1 in /home/patara/miniconda3/envs/TinyTimeNAS/lib/python3.9/site-packages (from tensorboard<2.11,>=2.10->tensorflow) (2.2.3)\n",
      "Requirement already satisfied: cloudpickle>=1.3 in /home/patara/miniconda3/envs/TinyTimeNAS/lib/python3.9/site-packages (from tensorflow-probability>=0.12.2->silabs-mltk) (2.2.1)\n",
      "Requirement already satisfied: dm-tree in /home/patara/miniconda3/envs/TinyTimeNAS/lib/python3.9/site-packages (from tensorflow-probability>=0.12.2->silabs-mltk) (0.1.8)\n",
      "Requirement already satisfied: click<9.0.0,>=7.1.1 in /home/patara/miniconda3/envs/TinyTimeNAS/lib/python3.9/site-packages (from typer<1.0->silabs-mltk) (8.1.3)\n",
      "Requirement already satisfied: iniconfig in /home/patara/miniconda3/envs/TinyTimeNAS/lib/python3.9/site-packages (from pytest->silabs-mltk) (2.0.0)\n",
      "Requirement already satisfied: pluggy<2.0,>=0.12 in /home/patara/miniconda3/envs/TinyTimeNAS/lib/python3.9/site-packages (from pytest->silabs-mltk) (1.0.0)\n",
      "Requirement already satisfied: exceptiongroup>=1.0.0rc8 in /home/patara/miniconda3/envs/TinyTimeNAS/lib/python3.9/site-packages (from pytest->silabs-mltk) (1.1.1)\n",
      "Requirement already satisfied: tomli>=1.0.0 in /home/patara/miniconda3/envs/TinyTimeNAS/lib/python3.9/site-packages (from pytest->silabs-mltk) (2.0.1)\n",
      "Requirement already satisfied: sounddevice>=0.4.4 in /home/patara/miniconda3/envs/TinyTimeNAS/lib/python3.9/site-packages (from tflite-support->silabs-mltk) (0.4.6)\n",
      "Requirement already satisfied: pybind11>=2.6.0 in /home/patara/miniconda3/envs/TinyTimeNAS/lib/python3.9/site-packages (from tflite-support->silabs-mltk) (2.10.4)\n",
      "Requirement already satisfied: cachetools<6.0,>=2.0.0 in /home/patara/miniconda3/envs/TinyTimeNAS/lib/python3.9/site-packages (from google-auth<3,>=1.6.3->tensorboard<2.11,>=2.10->tensorflow) (5.3.1)\n",
      "Requirement already satisfied: pyasn1-modules>=0.2.1 in /home/patara/miniconda3/envs/TinyTimeNAS/lib/python3.9/site-packages (from google-auth<3,>=1.6.3->tensorboard<2.11,>=2.10->tensorflow) (0.3.0)\n",
      "Requirement already satisfied: rsa<5,>=3.1.4 in /home/patara/miniconda3/envs/TinyTimeNAS/lib/python3.9/site-packages (from google-auth<3,>=1.6.3->tensorboard<2.11,>=2.10->tensorflow) (4.9)\n",
      "Requirement already satisfied: urllib3<2.0 in /home/patara/miniconda3/envs/TinyTimeNAS/lib/python3.9/site-packages (from google-auth<3,>=1.6.3->tensorboard<2.11,>=2.10->tensorflow) (1.26.16)\n",
      "Requirement already satisfied: requests-oauthlib>=0.7.0 in /home/patara/miniconda3/envs/TinyTimeNAS/lib/python3.9/site-packages (from google-auth-oauthlib<0.5,>=0.4.1->tensorboard<2.11,>=2.10->tensorflow) (1.3.1)\n",
      "Requirement already satisfied: zipp>=3.1.0 in /home/patara/miniconda3/envs/TinyTimeNAS/lib/python3.9/site-packages (from importlib-resources>=3.2.0->matplotlib<4.0->silabs-mltk) (3.15.0)\n",
      "Requirement already satisfied: importlib-metadata>=4.4 in /home/patara/miniconda3/envs/TinyTimeNAS/lib/python3.9/site-packages (from markdown>=2.6.8->tensorboard<2.11,>=2.10->tensorflow) (6.6.0)\n",
      "Requirement already satisfied: llvmlite<0.41,>=0.40.0dev0 in /home/patara/miniconda3/envs/TinyTimeNAS/lib/python3.9/site-packages (from numba>=0.51.0->librosa<1.0->silabs-mltk) (0.40.0)\n",
      "Requirement already satisfied: appdirs>=1.3.0 in /home/patara/miniconda3/envs/TinyTimeNAS/lib/python3.9/site-packages (from pooch<1.7,>=1.0->librosa<1.0->silabs-mltk) (1.4.4)\n",
      "Requirement already satisfied: charset-normalizer<4,>=2 in /home/patara/miniconda3/envs/TinyTimeNAS/lib/python3.9/site-packages (from requests<3,>=2.21.0->tensorboard<2.11,>=2.10->tensorflow) (3.1.0)\n",
      "Requirement already satisfied: idna<4,>=2.5 in /home/patara/miniconda3/envs/TinyTimeNAS/lib/python3.9/site-packages (from requests<3,>=2.21.0->tensorboard<2.11,>=2.10->tensorflow) (3.4)\n",
      "Requirement already satisfied: certifi>=2017.4.17 in /home/patara/miniconda3/envs/TinyTimeNAS/lib/python3.9/site-packages (from requests<3,>=2.21.0->tensorboard<2.11,>=2.10->tensorflow) (2023.5.7)\n",
      "Requirement already satisfied: CFFI>=1.0 in /home/patara/miniconda3/envs/TinyTimeNAS/lib/python3.9/site-packages (from sounddevice>=0.4.4->tflite-support->silabs-mltk) (1.15.1)\n",
      "Requirement already satisfied: MarkupSafe>=2.1.1 in /home/patara/miniconda3/envs/TinyTimeNAS/lib/python3.9/site-packages (from werkzeug>=1.0.1->tensorboard<2.11,>=2.10->tensorflow) (2.1.2)\n",
      "Requirement already satisfied: pycparser in /home/patara/miniconda3/envs/TinyTimeNAS/lib/python3.9/site-packages (from CFFI>=1.0->sounddevice>=0.4.4->tflite-support->silabs-mltk) (2.21)\n",
      "Requirement already satisfied: pyasn1<0.6.0,>=0.4.6 in /home/patara/miniconda3/envs/TinyTimeNAS/lib/python3.9/site-packages (from pyasn1-modules>=0.2.1->google-auth<3,>=1.6.3->tensorboard<2.11,>=2.10->tensorflow) (0.5.0)\n",
      "Requirement already satisfied: oauthlib>=3.0.0 in /home/patara/miniconda3/envs/TinyTimeNAS/lib/python3.9/site-packages (from requests-oauthlib>=0.7.0->google-auth-oauthlib<0.5,>=0.4.1->tensorboard<2.11,>=2.10->tensorflow) (3.2.2)\n",
      "Reading package lists... Done\n",
      "E: Could not open lock file /var/lib/apt/lists/lock - open (13: Permission denied)\n",
      "E: Unable to lock directory /var/lib/apt/lists/\n",
      "W: Problem unlinking the file /var/cache/apt/pkgcache.bin - RemoveCaches (13: Permission denied)\n",
      "W: Problem unlinking the file /var/cache/apt/srcpkgcache.bin - RemoveCaches (13: Permission denied)\n"
     ]
    }
   ],
   "source": [
    "!pip install tensorflow pandas numpy scikit-learn sktime silabs-mltk tflite-runtime\n",
    "# Install xxd if it is not available\n",
    "!apt-get update && apt-get -qq install xxd\n",
    "# !apt install -y xxd"
   ]
  },
  {
   "cell_type": "code",
   "execution_count": 2,
   "id": "dc3c8c28-7271-4afa-92f1-39aa9ed7229c",
   "metadata": {},
   "outputs": [],
   "source": [
    "# import utilitiy packages\n",
    "import os, sys, gc, warnings, logging\n",
    "import json, time, glob, math\n",
    "\n",
    "# determine GPU number\n",
    "os.environ[\"CUDA_DEVICE_ORDER\"] = \"PCI_BUS_ID\"\n",
    "os.environ[\"CUDA_VISIBLE_DEVICES\"] = \"7\" # use \"-1\" for CPU\n",
    "os.environ[\"TF_FORCE_GPU_ALLOW_GROWTH\"] = \"true\"\n",
    "os.environ['TF_CPP_MIN_LOG_LEVEL'] = '2' # hide INFO and WARNING messages\n",
    "\n",
    "# define paths to model files\n",
    "MODELS_DIR = 'models/'\n",
    "MODEL_TF = MODELS_DIR + 'model.pb'\n",
    "MODEL_NO_QUANT_TFLITE = MODELS_DIR + 'model_no_quant.tflite'\n",
    "MODEL_TFLITE = MODELS_DIR + 'model.tflite'\n",
    "MODEL_TFLITE_MICRO = MODELS_DIR + 'model.cpp'\n",
    "SEED = 7\n",
    "\n",
    "os.makedirs(MODELS_DIR, exist_ok=True)\n",
    "\n",
    "logging.disable(logging.WARNING)\n",
    "warnings.filterwarnings('ignore')"
   ]
  },
  {
   "cell_type": "code",
   "execution_count": 3,
   "id": "cdfeba24-3a32-45ec-9ab0-925ec94ea492",
   "metadata": {},
   "outputs": [
    {
     "name": "stderr",
     "output_type": "stream",
     "text": [
      "2023-06-14 22:56:29.398352: E tensorflow/stream_executor/cuda/cuda_blas.cc:2981] Unable to register cuBLAS factory: Attempting to register factory for plugin cuBLAS when one has already been registered\n"
     ]
    }
   ],
   "source": [
    "# import basic libraries\n",
    "import random\n",
    "\n",
    "import tensorflow as tf\n",
    "import pandas as pd\n",
    "import numpy as np\n",
    "\n",
    "from tensorflow import keras\n",
    "\n",
    "# Set a \"seed\" value, so we get the same random numbers each time we run this notebook for reproducible results.\n",
    "random.seed(SEED)\n",
    "np.random.seed(SEED)\n",
    "tf.random.set_seed(SEED)"
   ]
  },
  {
   "cell_type": "code",
   "execution_count": 4,
   "id": "c2796db7-d1a0-4e10-b37c-d4619a9c67d4",
   "metadata": {},
   "outputs": [
    {
     "name": "stdout",
     "output_type": "stream",
     "text": [
      "{'anomaly_detection': ['AirTemperature', 'Walking1', 'Walking5'], 'classification': ['AsphaltObstacles', 'BasicMotions', 'Handwriting', 'MotionSenseHAR', 'UWaveGestureLibrary'], 'regression': ['BeijingPM10Quality', 'BeijingPM25Quality']}\n"
     ]
    }
   ],
   "source": [
    "# import Tiny-TimeNAS related packages\n",
    "from tiny_tnas.searcher import Searcher\n",
    "from tiny_tnas.converters import quantize_model\n",
    "from tiny_tnas.profiler import get_model_size\n",
    "from tiny_tnas.data_loader import load_dataset, AVAILABEL_DATASETS\n",
    "\n",
    "# set search parameters for consistency across tasks\n",
    "MAX_RAM = 128\n",
    "MAX_FLASH = 256\n",
    "N_CANDIDATES = 100\n",
    "\n",
    "# datasets having features similar to Arduino Nano 33 BLE Sense\n",
    "print(AVAILABEL_DATASETS)"
   ]
  },
  {
   "cell_type": "markdown",
   "id": "109bc9ea-3377-467a-82c8-8e414ed88b7a",
   "metadata": {},
   "source": [
    "## 1. Time Series Classificatoin: *Human Activity Recognition*"
   ]
  },
  {
   "cell_type": "code",
   "execution_count": 5,
   "id": "76e684a7-11ef-45df-b1b2-031f901c1d10",
   "metadata": {},
   "outputs": [],
   "source": [
    "# define the target analysis task\n",
    "task = 'classification'"
   ]
  },
  {
   "cell_type": "markdown",
   "id": "3b0db8ff-2460-439d-aa01-1a0e609767a9",
   "metadata": {},
   "source": [
    "### 1.1 Load Dataset\n",
    "The data was generated as part of a student project where four students performed four activities whilst wearing a smart watch. The watch collects 3D accelerometer and a 3D gyroscope (i.e., **6 features**). It consists of four classes, which are walking, resting, running and badminton. Participants were required to record motion a total of five times, and the data is sampled once every tenth of a second, for a ten second period. (i.e., **10Hz** with total of 100 data points / sample)\n",
    "\n",
    "**LABEL ID**: \\[0:badminton, 1:running, 2:standing, 3:walking\\]"
   ]
  },
  {
   "cell_type": "code",
   "execution_count": 6,
   "id": "2a657f33-1584-4323-99b3-22d8a2e6b17f",
   "metadata": {},
   "outputs": [],
   "source": [
    "x_train, y_train, x_test, y_test = load_dataset(task=task, data_name='BasicMotions')"
   ]
  },
  {
   "cell_type": "markdown",
   "id": "8d660f27-52d5-4eed-bf08-73b255fef703",
   "metadata": {},
   "source": [
    "### 1.2 Run Neural Architecture Search\n",
    "Initialize the searcher with given hardware constraints and relevant configurations.\n",
    "Here, we set the maximum of RAM to '128KB', maximum of model size to '256KB', and target architecture types to 'ALL' (default).\n",
    "\n",
    "Then, we run the search with random sampling from the search space using a single iteration of '1000' candidate architectures.\n",
    "Following [MCUNet](https://mcunet.mit.edu/), we use the FLOPS to score the candidate architectures because *an architecture that accommoadate higher FLOPs under memory constraint (#params) can produce better model*.\n"
   ]
  },
  {
   "cell_type": "code",
   "execution_count": 7,
   "id": "c7d028b0-14cf-45c9-8234-8824a1c1cb4c",
   "metadata": {
    "scrolled": true
   },
   "outputs": [
    {
     "name": "stderr",
     "output_type": "stream",
     "text": [
      "100%|██████████| 100/100 [02:08<00:00,  1.28s/it]"
     ]
    },
    {
     "name": "stdout",
     "output_type": "stream",
     "text": [
      "search time: 128.46 seconds!\n"
     ]
    },
    {
     "name": "stderr",
     "output_type": "stream",
     "text": [
      "\n"
     ]
    }
   ],
   "source": [
    "# search architecture with network profiling\n",
    "start_time = time.time()\n",
    "searcher = Searcher(max_ram=MAX_RAM, max_flash=MAX_FLASH, task=task, x_train=x_train, y_train=y_train)\n",
    "cand_models = searcher.run_search(n_archs=N_CANDIDATES, top_k=1, allow_mix=False, proxy='zico')\n",
    "print(f\"search time: {time.time() - start_time:.2f} seconds!\")"
   ]
  },
  {
   "cell_type": "code",
   "execution_count": 8,
   "id": "c3f464d8-5672-45d7-ac77-ec839a431e40",
   "metadata": {},
   "outputs": [
    {
     "name": "stdout",
     "output_type": "stream",
     "text": [
      "MODEL PROFILE\n",
      "{'model_size': 162.328, 'runtime_memory': 55.704, 'flops': 2013620, 'macs': 992256, 'inference_time': 0.05669886128723927, 'energy': 0.00034170697667690515, 'params': 39492, 'zico': 36.586387634277344}\n"
     ]
    }
   ],
   "source": [
    "print('MODEL PROFILE')\n",
    "print(cand_models[0]['profile'])"
   ]
  },
  {
   "cell_type": "code",
   "execution_count": 9,
   "id": "75cfd193-a5b1-497c-87ce-c691737fa557",
   "metadata": {},
   "outputs": [
    {
     "name": "stdout",
     "output_type": "stream",
     "text": [
      "Model: \"model\"\n",
      "_________________________________________________________________\n",
      " Layer (type)                Output Shape              Param #   \n",
      "=================================================================\n",
      " input_1 (InputLayer)        [(None, 100, 6)]          0         \n",
      "                                                                 \n",
      " conv1d (Conv1D)             (None, 50, 128)           7040      \n",
      "                                                                 \n",
      " conv1d_1 (Conv1D)           (None, 50, 32)            8224      \n",
      "                                                                 \n",
      " conv1d_2 (Conv1D)           (None, 17, 32)            7200      \n",
      "                                                                 \n",
      " conv1d_3 (Conv1D)           (None, 9, 128)            12416     \n",
      "                                                                 \n",
      " flatten (Flatten)           (None, 1152)              0         \n",
      "                                                                 \n",
      " dense (Dense)               (None, 4)                 4612      \n",
      "                                                                 \n",
      "=================================================================\n",
      "Total params: 39,492\n",
      "Trainable params: 39,492\n",
      "Non-trainable params: 0\n",
      "_________________________________________________________________\n"
     ]
    }
   ],
   "source": [
    "# compile and print model summary\n",
    "model = cand_models[0]['model']\n",
    "model.compile(optimizer='adam', loss='sparse_categorical_crossentropy', metrics=['sparse_categorical_accuracy'])\n",
    "model.summary()"
   ]
  },
  {
   "cell_type": "markdown",
   "id": "4fcbe052-2711-40ab-a197-cbf3e3b73d36",
   "metadata": {},
   "source": [
    "### 1.3 Train the Found Model/Architecture"
   ]
  },
  {
   "cell_type": "code",
   "execution_count": 10,
   "id": "c96f5d5b-a312-4ac4-afa0-aff6867b2854",
   "metadata": {
    "scrolled": true
   },
   "outputs": [
    {
     "name": "stdout",
     "output_type": "stream",
     "text": [
      "Epoch 1/100\n",
      "2/2 [==============================] - 1s 224ms/step - loss: 1.5433 - sparse_categorical_accuracy: 0.2000 - val_loss: 1.2086 - val_sparse_categorical_accuracy: 0.3500\n",
      "Epoch 2/100\n",
      "2/2 [==============================] - 0s 38ms/step - loss: 1.1273 - sparse_categorical_accuracy: 0.4500 - val_loss: 1.0974 - val_sparse_categorical_accuracy: 0.4000\n",
      "Epoch 3/100\n",
      "2/2 [==============================] - 0s 44ms/step - loss: 0.9603 - sparse_categorical_accuracy: 0.5000 - val_loss: 1.0385 - val_sparse_categorical_accuracy: 0.4000\n",
      "Epoch 4/100\n",
      "2/2 [==============================] - 0s 33ms/step - loss: 0.8717 - sparse_categorical_accuracy: 0.5000 - val_loss: 1.0049 - val_sparse_categorical_accuracy: 0.4000\n",
      "Epoch 5/100\n",
      "2/2 [==============================] - 0s 36ms/step - loss: 0.8183 - sparse_categorical_accuracy: 0.5000 - val_loss: 0.9490 - val_sparse_categorical_accuracy: 0.4750\n",
      "Epoch 6/100\n",
      "2/2 [==============================] - 0s 37ms/step - loss: 0.7627 - sparse_categorical_accuracy: 0.5000 - val_loss: 0.8708 - val_sparse_categorical_accuracy: 0.4750\n",
      "Epoch 7/100\n",
      "2/2 [==============================] - 0s 104ms/step - loss: 0.7005 - sparse_categorical_accuracy: 0.5250 - val_loss: 0.8037 - val_sparse_categorical_accuracy: 0.5500\n",
      "Epoch 8/100\n",
      "2/2 [==============================] - 0s 59ms/step - loss: 0.6431 - sparse_categorical_accuracy: 0.7000 - val_loss: 0.7484 - val_sparse_categorical_accuracy: 0.6000\n",
      "Epoch 9/100\n",
      "2/2 [==============================] - 0s 102ms/step - loss: 0.5928 - sparse_categorical_accuracy: 0.7000 - val_loss: 0.7152 - val_sparse_categorical_accuracy: 0.6500\n",
      "Epoch 10/100\n",
      "2/2 [==============================] - 0s 53ms/step - loss: 0.5443 - sparse_categorical_accuracy: 0.7250 - val_loss: 0.7225 - val_sparse_categorical_accuracy: 0.6750\n",
      "Epoch 11/100\n",
      "2/2 [==============================] - 0s 46ms/step - loss: 0.5070 - sparse_categorical_accuracy: 0.7500 - val_loss: 0.7174 - val_sparse_categorical_accuracy: 0.6500\n",
      "Epoch 12/100\n",
      "2/2 [==============================] - 0s 40ms/step - loss: 0.4622 - sparse_categorical_accuracy: 0.7500 - val_loss: 0.6490 - val_sparse_categorical_accuracy: 0.7000\n",
      "Epoch 13/100\n",
      "2/2 [==============================] - 0s 38ms/step - loss: 0.4221 - sparse_categorical_accuracy: 0.7750 - val_loss: 0.5703 - val_sparse_categorical_accuracy: 0.7250\n",
      "Epoch 14/100\n",
      "2/2 [==============================] - 0s 42ms/step - loss: 0.3901 - sparse_categorical_accuracy: 0.8000 - val_loss: 0.4898 - val_sparse_categorical_accuracy: 0.8250\n",
      "Epoch 15/100\n",
      "2/2 [==============================] - 0s 55ms/step - loss: 0.3603 - sparse_categorical_accuracy: 0.8500 - val_loss: 0.4430 - val_sparse_categorical_accuracy: 0.8500\n",
      "Epoch 16/100\n",
      "2/2 [==============================] - 0s 47ms/step - loss: 0.3336 - sparse_categorical_accuracy: 0.9250 - val_loss: 0.4240 - val_sparse_categorical_accuracy: 0.8500\n",
      "Epoch 17/100\n",
      "2/2 [==============================] - 0s 97ms/step - loss: 0.3037 - sparse_categorical_accuracy: 0.9500 - val_loss: 0.4391 - val_sparse_categorical_accuracy: 0.9250\n",
      "Epoch 18/100\n",
      "2/2 [==============================] - 0s 43ms/step - loss: 0.2745 - sparse_categorical_accuracy: 0.9750 - val_loss: 0.4886 - val_sparse_categorical_accuracy: 0.9000\n",
      "Epoch 19/100\n",
      "2/2 [==============================] - 0s 47ms/step - loss: 0.2417 - sparse_categorical_accuracy: 1.0000 - val_loss: 0.5525 - val_sparse_categorical_accuracy: 0.9000\n",
      "Epoch 20/100\n",
      "2/2 [==============================] - 0s 38ms/step - loss: 0.2093 - sparse_categorical_accuracy: 1.0000 - val_loss: 0.5706 - val_sparse_categorical_accuracy: 0.8750\n",
      "Epoch 21/100\n",
      "2/2 [==============================] - 0s 37ms/step - loss: 0.1693 - sparse_categorical_accuracy: 1.0000 - val_loss: 0.5364 - val_sparse_categorical_accuracy: 0.8500\n",
      "Epoch 22/100\n",
      "2/2 [==============================] - 0s 40ms/step - loss: 0.1458 - sparse_categorical_accuracy: 1.0000 - val_loss: 0.5209 - val_sparse_categorical_accuracy: 0.8500\n",
      "Epoch 23/100\n",
      "2/2 [==============================] - 0s 44ms/step - loss: 0.1089 - sparse_categorical_accuracy: 1.0000 - val_loss: 0.5272 - val_sparse_categorical_accuracy: 0.8250\n",
      "Epoch 24/100\n",
      "2/2 [==============================] - 0s 45ms/step - loss: 0.0822 - sparse_categorical_accuracy: 1.0000 - val_loss: 0.4014 - val_sparse_categorical_accuracy: 0.8750\n",
      "Epoch 25/100\n",
      "2/2 [==============================] - 0s 38ms/step - loss: 0.0611 - sparse_categorical_accuracy: 1.0000 - val_loss: 0.2498 - val_sparse_categorical_accuracy: 0.9000\n",
      "Epoch 26/100\n",
      "2/2 [==============================] - 0s 39ms/step - loss: 0.0452 - sparse_categorical_accuracy: 1.0000 - val_loss: 0.1761 - val_sparse_categorical_accuracy: 0.9250\n",
      "Epoch 27/100\n",
      "2/2 [==============================] - 0s 41ms/step - loss: 0.0306 - sparse_categorical_accuracy: 1.0000 - val_loss: 0.1414 - val_sparse_categorical_accuracy: 0.9500\n",
      "Epoch 28/100\n",
      "2/2 [==============================] - 0s 46ms/step - loss: 0.0194 - sparse_categorical_accuracy: 1.0000 - val_loss: 0.1382 - val_sparse_categorical_accuracy: 0.9500\n",
      "Epoch 29/100\n",
      "2/2 [==============================] - 0s 38ms/step - loss: 0.0135 - sparse_categorical_accuracy: 1.0000 - val_loss: 0.1503 - val_sparse_categorical_accuracy: 0.9500\n",
      "Epoch 30/100\n",
      "2/2 [==============================] - 0s 46ms/step - loss: 0.0109 - sparse_categorical_accuracy: 1.0000 - val_loss: 0.1455 - val_sparse_categorical_accuracy: 0.9500\n",
      "Epoch 31/100\n",
      "2/2 [==============================] - 0s 94ms/step - loss: 0.0077 - sparse_categorical_accuracy: 1.0000 - val_loss: 0.1235 - val_sparse_categorical_accuracy: 0.9500\n",
      "Epoch 32/100\n",
      "2/2 [==============================] - 0s 78ms/step - loss: 0.0042 - sparse_categorical_accuracy: 1.0000 - val_loss: 0.1009 - val_sparse_categorical_accuracy: 0.9500\n",
      "Epoch 33/100\n",
      "2/2 [==============================] - 0s 40ms/step - loss: 0.0025 - sparse_categorical_accuracy: 1.0000 - val_loss: 0.0858 - val_sparse_categorical_accuracy: 0.9500\n",
      "Epoch 34/100\n",
      "2/2 [==============================] - 0s 48ms/step - loss: 0.0018 - sparse_categorical_accuracy: 1.0000 - val_loss: 0.0754 - val_sparse_categorical_accuracy: 0.9500\n",
      "Epoch 35/100\n",
      "2/2 [==============================] - 0s 48ms/step - loss: 0.0013 - sparse_categorical_accuracy: 1.0000 - val_loss: 0.0696 - val_sparse_categorical_accuracy: 0.9500\n",
      "Epoch 36/100\n",
      "2/2 [==============================] - 0s 48ms/step - loss: 0.0011 - sparse_categorical_accuracy: 1.0000 - val_loss: 0.0668 - val_sparse_categorical_accuracy: 0.9500\n",
      "Epoch 37/100\n",
      "2/2 [==============================] - 0s 57ms/step - loss: 8.9016e-04 - sparse_categorical_accuracy: 1.0000 - val_loss: 0.0656 - val_sparse_categorical_accuracy: 0.9750\n",
      "Epoch 38/100\n",
      "2/2 [==============================] - 0s 72ms/step - loss: 7.3584e-04 - sparse_categorical_accuracy: 1.0000 - val_loss: 0.0653 - val_sparse_categorical_accuracy: 0.9750\n",
      "Epoch 39/100\n",
      "2/2 [==============================] - 0s 47ms/step - loss: 5.9904e-04 - sparse_categorical_accuracy: 1.0000 - val_loss: 0.0656 - val_sparse_categorical_accuracy: 0.9750\n",
      "Epoch 40/100\n",
      "2/2 [==============================] - 0s 47ms/step - loss: 5.1661e-04 - sparse_categorical_accuracy: 1.0000 - val_loss: 0.0665 - val_sparse_categorical_accuracy: 0.9750\n",
      "Epoch 41/100\n",
      "2/2 [==============================] - 0s 49ms/step - loss: 4.3451e-04 - sparse_categorical_accuracy: 1.0000 - val_loss: 0.0676 - val_sparse_categorical_accuracy: 0.9750\n",
      "Epoch 42/100\n",
      "2/2 [==============================] - 0s 59ms/step - loss: 3.8142e-04 - sparse_categorical_accuracy: 1.0000 - val_loss: 0.0692 - val_sparse_categorical_accuracy: 0.9750\n",
      "Epoch 43/100\n",
      "2/2 [==============================] - 0s 46ms/step - loss: 3.3920e-04 - sparse_categorical_accuracy: 1.0000 - val_loss: 0.0707 - val_sparse_categorical_accuracy: 0.9750\n",
      "Epoch 44/100\n",
      "2/2 [==============================] - 0s 75ms/step - loss: 2.9633e-04 - sparse_categorical_accuracy: 1.0000 - val_loss: 0.0722 - val_sparse_categorical_accuracy: 0.9750\n",
      "Epoch 45/100\n",
      "2/2 [==============================] - 0s 32ms/step - loss: 2.6438e-04 - sparse_categorical_accuracy: 1.0000 - val_loss: 0.0738 - val_sparse_categorical_accuracy: 0.9750\n",
      "Epoch 46/100\n",
      "2/2 [==============================] - 0s 50ms/step - loss: 2.4180e-04 - sparse_categorical_accuracy: 1.0000 - val_loss: 0.0753 - val_sparse_categorical_accuracy: 0.9750\n",
      "Epoch 47/100\n",
      "2/2 [==============================] - 0s 61ms/step - loss: 2.1903e-04 - sparse_categorical_accuracy: 1.0000 - val_loss: 0.0767 - val_sparse_categorical_accuracy: 0.9500\n"
     ]
    }
   ],
   "source": [
    "NUM_EPOCH, NUM_BATCH = 100, 32\n",
    "\n",
    "es = keras.callbacks.EarlyStopping(monitor='val_sparse_categorical_accuracy', mode='max', patience=10, restore_best_weights=True)\n",
    "history = model.fit(x_train, y_train, epochs=NUM_EPOCH, batch_size=NUM_BATCH, validation_data=(x_test, y_test), callbacks=[es])"
   ]
  },
  {
   "cell_type": "markdown",
   "id": "bf339c25-bcc6-4638-901f-c0c921f8beec",
   "metadata": {},
   "source": [
    "### 1.4 Evaluate the Trained Model"
   ]
  },
  {
   "cell_type": "code",
   "execution_count": 11,
   "id": "8c1993f7-6df2-4d7b-b374-628f388156aa",
   "metadata": {},
   "outputs": [
    {
     "name": "stdout",
     "output_type": "stream",
     "text": [
      "2/2 [==============================] - 0s 3ms/step - loss: 0.0656 - sparse_categorical_accuracy: 0.9750\n",
      "2/2 [==============================] - 0s 3ms/step\n",
      "ACC\tAUC\tF1\n",
      "97.50\t99.92\t97.49\n"
     ]
    }
   ],
   "source": [
    "from tiny_tnas.evaluator import evaluate_classification\n",
    "\n",
    "# calculate and print the loss on our test dataset\n",
    "loss = model.evaluate(x_test, y_test)\n",
    "\n",
    "# make predictions based on our test dataset\n",
    "y_pred = model.predict(x_test)\n",
    "\n",
    "perf = evaluate_classification(y_test, y_pred)\n",
    "print(f\"ACC\\tAUC\\tF1\")\n",
    "print(f\"{perf['accuracy']*100:.2f}\\t{perf['auc']*100:.2f}\\t{perf['f1']*100:.2f}\")"
   ]
  },
  {
   "cell_type": "markdown",
   "id": "7b2df48a-bac9-43f3-9b80-006b42393a60",
   "metadata": {},
   "source": [
    "### 1.5 Generate a Quantized TensorFlow Lite Model for Microcontrollers\n",
    "Convert the TensorFlow Lite quantized model into a C source file that can be loaded by TensorFlow Lite for Microcontrollers."
   ]
  },
  {
   "cell_type": "code",
   "execution_count": 12,
   "id": "c587fa33-144b-4e05-96d1-e91758c1ba92",
   "metadata": {},
   "outputs": [
    {
     "name": "stdout",
     "output_type": "stream",
     "text": [
      "54.297 KB\n"
     ]
    },
    {
     "name": "stderr",
     "output_type": "stream",
     "text": [
      "fully_quantize: 0, inference_type: 6, input_inference_type: INT8, output_inference_type: INT8\n"
     ]
    },
    {
     "data": {
      "text/plain": [
       "54264"
      ]
     },
     "execution_count": 12,
     "metadata": {},
     "output_type": "execute_result"
    }
   ],
   "source": [
    "# convert and quantize the model\n",
    "quantized_model = quantize_model(model, x_train, mode='int')\n",
    "# compute quantized model size\n",
    "print(get_model_size(quantized_model), 'KB')\n",
    "# Save the model to disk\n",
    "open(MODEL_TFLITE, \"wb\").write(quantized_model)"
   ]
  },
  {
   "cell_type": "code",
   "execution_count": 13,
   "id": "e324d5af-29cf-4ec4-a65c-153217ea845d",
   "metadata": {},
   "outputs": [
    {
     "name": "stdout",
     "output_type": "stream",
     "text": [
      "Reading package lists... Done\n",
      "E: Could not open lock file /var/lib/apt/lists/lock - open (13: Permission denied)\n",
      "E: Unable to lock directory /var/lib/apt/lists/\n",
      "W: Problem unlinking the file /var/cache/apt/pkgcache.bin - RemoveCaches (13: Permission denied)\n",
      "W: Problem unlinking the file /var/cache/apt/srcpkgcache.bin - RemoveCaches (13: Permission denied)\n"
     ]
    }
   ],
   "source": [
    "# Install xxd if it is not available\n",
    "!apt-get update && apt-get -qq install xxd\n",
    "# Convert to a C source file\n",
    "!xxd -i {MODEL_TFLITE} > {MODEL_TFLITE_MICRO}\n",
    "# Update variable names\n",
    "REPLACE_TEXT = MODEL_TFLITE.replace('/', '_').replace('.', '_')\n",
    "!sed -i 's/'{REPLACE_TEXT}'/g_model/g' {MODEL_TFLITE_MICRO}"
   ]
  },
  {
   "cell_type": "code",
   "execution_count": 14,
   "id": "69887fdf-444a-4b7b-b1db-57458157f8aa",
   "metadata": {
    "scrolled": true
   },
   "outputs": [
    {
     "name": "stdout",
     "output_type": "stream",
     "text": [
      "  0xd8, 0xa9, 0xe1, 0x38, 0xe4, 0x42, 0xe6, 0x38, 0x75, 0xcb, 0xd8, 0x38,\n",
      "  0xa0, 0x1f, 0xeb, 0x38, 0x2c, 0x9d, 0xdd, 0x38, 0xca, 0xf6, 0x10, 0x39,\n",
      "  0xb1, 0x6e, 0xe5, 0x38, 0x0d, 0x03, 0xef, 0x38, 0xe0, 0x7f, 0x19, 0x39,\n",
      "  0x17, 0xa4, 0xdf, 0x38, 0x1a, 0x16, 0xf4, 0x38, 0x0d, 0x1e, 0x03, 0x39,\n",
      "  0x78, 0x10, 0x08, 0x39, 0xa6, 0x84, 0xe0, 0x38, 0x99, 0x60, 0xeb, 0x38,\n",
      "  0x1d, 0x5c, 0xec, 0x38, 0x53, 0x35, 0xdd, 0x38, 0xb9, 0x85, 0xed, 0x38,\n",
      "  0x79, 0x7b, 0xe6, 0x38, 0x0c, 0xb3, 0x07, 0x39, 0x3a, 0xcb, 0x02, 0x39,\n",
      "  0x89, 0x3d, 0xe3, 0x38, 0xbe, 0x26, 0xe1, 0x38, 0x33, 0x5b, 0xda, 0x38,\n",
      "  0x08, 0x89, 0xe2, 0x38, 0x7c, 0x99, 0xf1, 0x38, 0xbc, 0x9f, 0x02, 0x39,\n",
      "  0x63, 0xb2, 0x0b, 0x39, 0x52, 0x8d, 0xf8, 0x38, 0x1a, 0xfb, 0xf4, 0x38,\n",
      "  0xeb, 0xbc, 0xdd, 0x38, 0x64, 0x7e, 0x01, 0x39, 0xbb, 0xd6, 0x09, 0x39,\n",
      "  0x62, 0x80, 0xfd, 0x38, 0xf2, 0x60, 0xf3, 0x38, 0x5f, 0x0c, 0xe1, 0x38,\n",
      "  0xa8, 0x5a, 0xe4, 0x38, 0xe2, 0x5f, 0xe0, 0x38, 0xa8, 0xb4, 0xfe, 0x38,\n",
      "  0x50, 0xc0, 0xe8, 0x38, 0xd6, 0xb7, 0xe5, 0x38, 0x60, 0x86, 0xd9, 0x38,\n",
      "  0xa2, 0x42, 0xe3, 0x38, 0x5f, 0x32, 0xe3, 0x38, 0x5d, 0xf1, 0xdd, 0x38,\n",
      "  0x99, 0xca, 0xd2, 0x38, 0xbc, 0xe3, 0xf6, 0x38, 0xe9, 0xa2, 0x11, 0x39,\n",
      "  0x3f, 0x56, 0xdb, 0x38, 0xd1, 0x61, 0xe6, 0x38, 0x5b, 0x4a, 0xf4, 0x38,\n",
      "  0xb3, 0xb2, 0xe2, 0x38, 0xfe, 0x5c, 0xf3, 0x38, 0xe7, 0xb2, 0x09, 0x39,\n",
      "  0x4e, 0x52, 0xd5, 0x38, 0xc6, 0x72, 0xf6, 0x38, 0x2a, 0xde, 0xdf, 0x38,\n",
      "  0x99, 0xd4, 0xdc, 0x38, 0x06, 0x5e, 0xde, 0x38, 0x82, 0x1d, 0x03, 0x39,\n",
      "  0x25, 0x00, 0x00, 0x00, 0x6d, 0x6f, 0x64, 0x65, 0x6c, 0x2f, 0x63, 0x6f,\n",
      "  0x6e, 0x76, 0x31, 0x64, 0x5f, 0x33, 0x2f, 0x42, 0x69, 0x61, 0x73, 0x41,\n",
      "  0x64, 0x64, 0x2f, 0x52, 0x65, 0x61, 0x64, 0x56, 0x61, 0x72, 0x69, 0x61,\n",
      "  0x62, 0x6c, 0x65, 0x4f, 0x70, 0x00, 0x00, 0x00, 0x01, 0x00, 0x00, 0x00,\n",
      "  0x80, 0x00, 0x00, 0x00, 0x0e, 0xfe, 0xff, 0xff, 0x00, 0x00, 0x00, 0x01,\n",
      "  0x14, 0x00, 0x00, 0x00, 0x30, 0x00, 0x00, 0x00, 0x08, 0x00, 0x00, 0x00,\n",
      "  0x00, 0x00, 0x00, 0x09, 0x3c, 0x00, 0x00, 0x00, 0x7c, 0xfd, 0xff, 0xff,\n",
      "  0x08, 0x00, 0x00, 0x00, 0x10, 0x00, 0x00, 0x00, 0x01, 0x00, 0x00, 0x00,\n",
      "  0x00, 0x00, 0x00, 0x00, 0x00, 0x00, 0x00, 0x00, 0x01, 0x00, 0x00, 0x00,\n",
      "  0xdf, 0x85, 0x86, 0x3a, 0x12, 0x00, 0x00, 0x00, 0x6d, 0x6f, 0x64, 0x65,\n",
      "  0x6c, 0x2f, 0x64, 0x65, 0x6e, 0x73, 0x65, 0x2f, 0x4d, 0x61, 0x74, 0x4d,\n",
      "  0x75, 0x6c, 0x00, 0x00, 0x02, 0x00, 0x00, 0x00, 0x04, 0x00, 0x00, 0x00,\n",
      "  0x80, 0x04, 0x00, 0x00, 0x6e, 0xfe, 0xff, 0xff, 0x00, 0x00, 0x00, 0x01,\n",
      "  0x14, 0x00, 0x00, 0x00, 0x34, 0x00, 0x00, 0x00, 0x07, 0x00, 0x00, 0x00,\n",
      "  0x00, 0x00, 0x00, 0x02, 0x50, 0x00, 0x00, 0x00, 0xdc, 0xfd, 0xff, 0xff,\n",
      "  0x08, 0x00, 0x00, 0x00, 0x14, 0x00, 0x00, 0x00, 0x01, 0x00, 0x00, 0x00,\n",
      "  0x00, 0x00, 0x00, 0x00, 0x00, 0x00, 0x00, 0x00, 0x00, 0x00, 0x00, 0x00,\n",
      "  0x01, 0x00, 0x00, 0x00, 0xe0, 0xd6, 0x9b, 0x38, 0x22, 0x00, 0x00, 0x00,\n",
      "  0x6d, 0x6f, 0x64, 0x65, 0x6c, 0x2f, 0x64, 0x65, 0x6e, 0x73, 0x65, 0x2f,\n",
      "  0x42, 0x69, 0x61, 0x73, 0x41, 0x64, 0x64, 0x2f, 0x52, 0x65, 0x61, 0x64,\n",
      "  0x56, 0x61, 0x72, 0x69, 0x61, 0x62, 0x6c, 0x65, 0x4f, 0x70, 0x00, 0x00,\n",
      "  0x01, 0x00, 0x00, 0x00, 0x04, 0x00, 0x00, 0x00, 0xde, 0xfe, 0xff, 0xff,\n",
      "  0x00, 0x00, 0x00, 0x01, 0x14, 0x00, 0x00, 0x00, 0x14, 0x00, 0x00, 0x00,\n",
      "  0x06, 0x00, 0x00, 0x00, 0x00, 0x00, 0x00, 0x02, 0x20, 0x00, 0x00, 0x00,\n",
      "  0xc8, 0xfe, 0xff, 0xff, 0x13, 0x00, 0x00, 0x00, 0x6d, 0x6f, 0x64, 0x65,\n",
      "  0x6c, 0x2f, 0x66, 0x6c, 0x61, 0x74, 0x74, 0x65, 0x6e, 0x2f, 0x43, 0x6f,\n",
      "  0x6e, 0x73, 0x74, 0x00, 0x01, 0x00, 0x00, 0x00, 0x02, 0x00, 0x00, 0x00,\n",
      "  0x1e, 0xff, 0xff, 0xff, 0x00, 0x00, 0x00, 0x01, 0x14, 0x00, 0x00, 0x00,\n",
      "  0x14, 0x00, 0x00, 0x00, 0x05, 0x00, 0x00, 0x00, 0x00, 0x00, 0x00, 0x02,\n",
      "  0x2c, 0x00, 0x00, 0x00, 0x08, 0xff, 0xff, 0xff, 0x1d, 0x00, 0x00, 0x00,\n",
      "  0x6d, 0x6f, 0x64, 0x65, 0x6c, 0x2f, 0x63, 0x6f, 0x6e, 0x76, 0x31, 0x64,\n",
      "  0x5f, 0x32, 0x2f, 0x43, 0x6f, 0x6e, 0x76, 0x31, 0x44, 0x2f, 0x53, 0x71,\n",
      "  0x75, 0x65, 0x65, 0x7a, 0x65, 0x00, 0x00, 0x00, 0x01, 0x00, 0x00, 0x00,\n",
      "  0x03, 0x00, 0x00, 0x00, 0x6a, 0xff, 0xff, 0xff, 0x00, 0x00, 0x00, 0x01,\n",
      "  0x14, 0x00, 0x00, 0x00, 0x14, 0x00, 0x00, 0x00, 0x04, 0x00, 0x00, 0x00,\n",
      "  0x00, 0x00, 0x00, 0x02, 0x2c, 0x00, 0x00, 0x00, 0x54, 0xff, 0xff, 0xff,\n",
      "  0x1d, 0x00, 0x00, 0x00, 0x6d, 0x6f, 0x64, 0x65, 0x6c, 0x2f, 0x63, 0x6f,\n",
      "  0x6e, 0x76, 0x31, 0x64, 0x5f, 0x31, 0x2f, 0x43, 0x6f, 0x6e, 0x76, 0x31,\n",
      "  0x44, 0x2f, 0x53, 0x71, 0x75, 0x65, 0x65, 0x7a, 0x65, 0x00, 0x00, 0x00,\n",
      "  0x01, 0x00, 0x00, 0x00, 0x03, 0x00, 0x00, 0x00, 0xb6, 0xff, 0xff, 0xff,\n",
      "  0x00, 0x00, 0x00, 0x01, 0x14, 0x00, 0x00, 0x00, 0x14, 0x00, 0x00, 0x00,\n",
      "  0x03, 0x00, 0x00, 0x00, 0x00, 0x00, 0x00, 0x02, 0x28, 0x00, 0x00, 0x00,\n",
      "  0xa0, 0xff, 0xff, 0xff, 0x1b, 0x00, 0x00, 0x00, 0x6d, 0x6f, 0x64, 0x65,\n",
      "  0x6c, 0x2f, 0x63, 0x6f, 0x6e, 0x76, 0x31, 0x64, 0x2f, 0x43, 0x6f, 0x6e,\n",
      "  0x76, 0x31, 0x44, 0x2f, 0x53, 0x71, 0x75, 0x65, 0x65, 0x7a, 0x65, 0x00,\n",
      "  0x01, 0x00, 0x00, 0x00, 0x03, 0x00, 0x00, 0x00, 0x00, 0x00, 0x16, 0x00,\n",
      "  0x1c, 0x00, 0x18, 0x00, 0x17, 0x00, 0x10, 0x00, 0x0c, 0x00, 0x08, 0x00,\n",
      "  0x00, 0x00, 0x00, 0x00, 0x00, 0x00, 0x07, 0x00, 0x16, 0x00, 0x00, 0x00,\n",
      "  0x00, 0x00, 0x00, 0x01, 0x18, 0x00, 0x00, 0x00, 0x18, 0x00, 0x00, 0x00,\n",
      "  0x02, 0x00, 0x00, 0x00, 0x00, 0x00, 0x00, 0x02, 0x34, 0x00, 0x00, 0x00,\n",
      "  0x04, 0x00, 0x04, 0x00, 0x04, 0x00, 0x00, 0x00, 0x22, 0x00, 0x00, 0x00,\n",
      "  0x6d, 0x6f, 0x64, 0x65, 0x6c, 0x2f, 0x63, 0x6f, 0x6e, 0x76, 0x31, 0x64,\n",
      "  0x2f, 0x43, 0x6f, 0x6e, 0x76, 0x31, 0x44, 0x2f, 0x45, 0x78, 0x70, 0x61,\n",
      "  0x6e, 0x64, 0x44, 0x69, 0x6d, 0x73, 0x2f, 0x64, 0x69, 0x6d, 0x00, 0x00,\n",
      "  0x00, 0x00, 0x00, 0x00, 0x00, 0x00, 0x16, 0x00, 0x20, 0x00, 0x1c, 0x00,\n",
      "  0x1b, 0x00, 0x14, 0x00, 0x10, 0x00, 0x0c, 0x00, 0x00, 0x00, 0x00, 0x00,\n",
      "  0x08, 0x00, 0x07, 0x00, 0x16, 0x00, 0x00, 0x00, 0x00, 0x00, 0x00, 0x01,\n",
      "  0x18, 0x00, 0x00, 0x00, 0x30, 0x00, 0x00, 0x00, 0x4c, 0x00, 0x00, 0x00,\n",
      "  0x01, 0x00, 0x00, 0x00, 0x00, 0x00, 0x00, 0x09, 0x60, 0x00, 0x00, 0x00,\n",
      "  0x03, 0x00, 0x00, 0x00, 0xff, 0xff, 0xff, 0xff, 0x64, 0x00, 0x00, 0x00,\n",
      "  0x06, 0x00, 0x00, 0x00, 0x0c, 0x00, 0x0c, 0x00, 0x00, 0x00, 0x00, 0x00,\n",
      "  0x08, 0x00, 0x04, 0x00, 0x0c, 0x00, 0x00, 0x00, 0x08, 0x00, 0x00, 0x00,\n",
      "  0x10, 0x00, 0x00, 0x00, 0x01, 0x00, 0x00, 0x00, 0xfd, 0xff, 0xff, 0xff,\n",
      "  0xff, 0xff, 0xff, 0xff, 0x01, 0x00, 0x00, 0x00, 0x18, 0x3a, 0x38, 0x3e,\n",
      "  0x19, 0x00, 0x00, 0x00, 0x73, 0x65, 0x72, 0x76, 0x69, 0x6e, 0x67, 0x5f,\n",
      "  0x64, 0x65, 0x66, 0x61, 0x75, 0x6c, 0x74, 0x5f, 0x69, 0x6e, 0x70, 0x75,\n",
      "  0x74, 0x5f, 0x31, 0x3a, 0x30, 0x00, 0x00, 0x00, 0x03, 0x00, 0x00, 0x00,\n",
      "  0x01, 0x00, 0x00, 0x00, 0x64, 0x00, 0x00, 0x00, 0x06, 0x00, 0x00, 0x00,\n",
      "  0x05, 0x00, 0x00, 0x00, 0x68, 0x00, 0x00, 0x00, 0x48, 0x00, 0x00, 0x00,\n",
      "  0x2c, 0x00, 0x00, 0x00, 0x18, 0x00, 0x00, 0x00, 0x04, 0x00, 0x00, 0x00,\n",
      "  0xd4, 0xff, 0xff, 0xff, 0x19, 0x00, 0x00, 0x00, 0x02, 0x00, 0x00, 0x00,\n",
      "  0x00, 0x00, 0x00, 0x19, 0xe4, 0xff, 0xff, 0xff, 0x09, 0x00, 0x00, 0x00,\n",
      "  0x04, 0x00, 0x00, 0x00, 0x00, 0x00, 0x00, 0x09, 0xd8, 0xff, 0xff, 0xff,\n",
      "  0x16, 0x00, 0x00, 0x00, 0x00, 0x00, 0x00, 0x16, 0x0c, 0x00, 0x10, 0x00,\n",
      "  0x0f, 0x00, 0x00, 0x00, 0x08, 0x00, 0x04, 0x00, 0x0c, 0x00, 0x00, 0x00,\n",
      "  0x03, 0x00, 0x00, 0x00, 0x03, 0x00, 0x00, 0x00, 0x00, 0x00, 0x00, 0x03,\n",
      "  0x0c, 0x00, 0x0c, 0x00, 0x0b, 0x00, 0x00, 0x00, 0x00, 0x00, 0x04, 0x00,\n",
      "  0x0c, 0x00, 0x00, 0x00, 0x46, 0x00, 0x00, 0x00, 0x00, 0x00, 0x00, 0x46\n",
      "};\n",
      "unsigned int g_model_len = 54264;\n"
     ]
    }
   ],
   "source": [
    "# Print the C source file\n",
    "!tail -100 {MODEL_TFLITE_MICRO}"
   ]
  },
  {
   "cell_type": "markdown",
   "id": "662802e2-9e4d-4259-ba5e-90b8e6709d09",
   "metadata": {},
   "source": [
    "## 2. Time Series (Extrinsic) Regression: *Air Quality Prediction*"
   ]
  },
  {
   "cell_type": "code",
   "execution_count": null,
   "id": "73d7b147-02ae-4c69-b0a6-d67044cc19ff",
   "metadata": {},
   "outputs": [],
   "source": [
    "# define the target analysis task\n",
    "task = 'regression'"
   ]
  },
  {
   "cell_type": "markdown",
   "id": "913bf685-28c5-4e02-98a1-18127f2d2633",
   "metadata": {},
   "source": [
    "### 1.1 Load Dataset\n",
    "\n",
    "This dataset is part of the Monash, UEA & UCR time series regression repository. http://tseregression.org/ \n",
    "\n",
    "The goal of this dataset is to predict PM2.5 air quality in the city of Beijing. This dataset contains 17532 time series with 9 dimensions.  This includes hourly air pollutants measurments (SO2, NO2, CO and O3), temperature, pressure, dew point, rainfall and windspeed measurments from 12 nationally controlled air quality monitoring sites. The air-quality data are from the Beijing Municipal Environmental Monitoring Center. The meteorological data in each air-quality site are matched with the nearest weather station from the China Meteorological Administration. The time period is from March 1st, 2013 to February 28th, 2017. Please refer to https://archive.ics.uci.edu/ml/datasets/Beijing+Multi-Site+Air-Quality+Data for more details"
   ]
  },
  {
   "cell_type": "code",
   "execution_count": null,
   "id": "ff009bbd-2054-4454-b81f-737cedeb2ef1",
   "metadata": {},
   "outputs": [],
   "source": [
    "x_train, y_train, x_test, y_test = load_dataset(task=task, data_name='BeijingPM25Quality')"
   ]
  },
  {
   "cell_type": "markdown",
   "id": "780760b2-cd33-4b7d-a7af-9d1d5b31b9c6",
   "metadata": {},
   "source": [
    "Originally, the dataset has 9 dimensions. However, our Arduino can measure only (SO2, ~~NO2~~, CO and ~~O3~~), temperature, pressure, ~~dew point~~, ~~rainfall~~ and ~~windspeed~~. \n",
    "\n",
    "Thus, we may need to filter out other undetectable features to make it compatible with the Arduino."
   ]
  },
  {
   "cell_type": "code",
   "execution_count": null,
   "id": "42e9d692-6445-4559-9e65-7fc45d12e1cc",
   "metadata": {},
   "outputs": [],
   "source": [
    "x_train = x_train[:, :, [0, 2, 4, 5]]\n",
    "x_test = x_test[:, :, [0, 2, 4, 5]]"
   ]
  },
  {
   "cell_type": "markdown",
   "id": "b1475859-ae00-41af-a61f-8c16d745e8db",
   "metadata": {},
   "source": [
    "### 1.2 Run Neural Architecture Search"
   ]
  },
  {
   "cell_type": "code",
   "execution_count": null,
   "id": "21b291cb-e25a-4868-9a09-88d5acf30010",
   "metadata": {},
   "outputs": [],
   "source": [
    "# search architecture with network profiling\n",
    "start_time = time.time()\n",
    "searcher = Searcher(max_ram=MAX_RAM, max_flash=MAX_FLASH, task=task, x_train=x_train, y_train=y_train)\n",
    "cand_models = searcher.run_search(n_archs=N_CANDIDATES, top_k=1, allow_mix=False, proxy='zico')\n",
    "print(f\"search time: {time.time() - start_time:.2f} seconds!\")"
   ]
  },
  {
   "cell_type": "code",
   "execution_count": null,
   "id": "50734013-405c-4701-bbf5-09020a086782",
   "metadata": {},
   "outputs": [],
   "source": [
    "print('MODEL PROFILE')\n",
    "print(cand_models[0]['profile'])"
   ]
  },
  {
   "cell_type": "code",
   "execution_count": null,
   "id": "ebde9807-94e2-4604-9760-ab03feac561a",
   "metadata": {},
   "outputs": [],
   "source": [
    "# compile and print model summary\n",
    "model = cand_models[0]['model']\n",
    "model.compile(optimizer='adam', loss='mse', metrics=['mse', 'mae'])\n",
    "model.summary()"
   ]
  },
  {
   "cell_type": "markdown",
   "id": "627eb330-e67e-4053-a33d-de21278f030e",
   "metadata": {},
   "source": [
    "### 1.3 Train the Found Model/Architecture"
   ]
  },
  {
   "cell_type": "code",
   "execution_count": null,
   "id": "9e3c9480-54b6-4c25-9b18-d2ac10852551",
   "metadata": {},
   "outputs": [],
   "source": [
    "NUM_EPOCH, NUM_BATCH = 100, 32\n",
    "\n",
    "es = keras.callbacks.EarlyStopping(monitor='val_loss', mode='min', patience=10, restore_best_weights=True)\n",
    "history = model.fit(x_train, y_train, epochs=NUM_EPOCH, batch_size=NUM_BATCH, validation_data=(x_test, y_test), callbacks=[es])"
   ]
  },
  {
   "cell_type": "markdown",
   "id": "b7b583ee-b12f-438c-87e8-2dd3ead9deab",
   "metadata": {},
   "source": [
    "### 1.4 Evaluate the Trained Model"
   ]
  },
  {
   "cell_type": "code",
   "execution_count": null,
   "id": "036467a4-2df4-4ac4-ba0c-66f14612e0a3",
   "metadata": {},
   "outputs": [],
   "source": [
    "from tiny_tnas.evaluator import evaluate_regression\n",
    "\n",
    "# calculate and print the loss on our test dataset\n",
    "loss = model.evaluate(x_test, y_test)\n",
    "\n",
    "# make predictions based on our test dataset\n",
    "y_pred = model.predict(x_test)\n",
    "\n",
    "perf = evaluate_regression(y_test, y_pred)\n",
    "print(f\"RMSE\\tMSE\\tMAE\")\n",
    "print(f\"{perf['rmse']:.4f}\\t{perf['mse']:.4f}\\t{perf['mae']:.4f}\")"
   ]
  },
  {
   "cell_type": "markdown",
   "id": "0166e8d6-2c66-4086-abe6-f946913f059b",
   "metadata": {},
   "source": [
    "### 1.5 Generate a Quantized TensorFlow Lite Model for Microcontrollers\n",
    "Convert the TensorFlow Lite quantized model into a C source file that can be loaded by TensorFlow Lite for Microcontrollers."
   ]
  },
  {
   "cell_type": "code",
   "execution_count": null,
   "id": "2b28bd66-2db7-496e-a301-3e4dd50125e8",
   "metadata": {},
   "outputs": [],
   "source": [
    "# convert and quantize the model\n",
    "quantized_model = quantize_model(model, x_train, mode='float')\n",
    "# compute quantized model size\n",
    "print(get_model_size(quantized_model), 'KB')\n",
    "# Save the model to disk\n",
    "open(MODEL_TFLITE, \"wb\").write(quantized_model)"
   ]
  },
  {
   "cell_type": "code",
   "execution_count": null,
   "id": "a8e1d6f0-63d0-412a-9809-ca8ed6c3a6ec",
   "metadata": {},
   "outputs": [],
   "source": [
    "# Install xxd if it is not available\n",
    "!apt-get update && apt-get -qq install xxd\n",
    "# Convert to a C source file\n",
    "!xxd -i {MODEL_TFLITE} > {MODEL_TFLITE_MICRO}\n",
    "# Update variable names\n",
    "REPLACE_TEXT = MODEL_TFLITE.replace('/', '_').replace('.', '_')\n",
    "!sed -i 's/'{REPLACE_TEXT}'/g_model/g' {MODEL_TFLITE_MICRO}"
   ]
  },
  {
   "cell_type": "code",
   "execution_count": null,
   "id": "1a516558-b779-4e3c-b70c-afae5d6c789c",
   "metadata": {
    "scrolled": true
   },
   "outputs": [],
   "source": [
    "# Print the C source file\n",
    "!tail -100 {MODEL_TFLITE_MICRO}"
   ]
  },
  {
   "cell_type": "code",
   "execution_count": null,
   "id": "a5c3b408-2053-4655-9764-f9097e115929",
   "metadata": {},
   "outputs": [],
   "source": []
  }
 ],
 "metadata": {
  "kernelspec": {
   "display_name": "TinyTimeNAS",
   "language": "python",
   "name": "tinytimenas"
  },
  "language_info": {
   "codemirror_mode": {
    "name": "ipython",
    "version": 3
   },
   "file_extension": ".py",
   "mimetype": "text/x-python",
   "name": "python",
   "nbconvert_exporter": "python",
   "pygments_lexer": "ipython3",
   "version": "3.9.16"
  }
 },
 "nbformat": 4,
 "nbformat_minor": 5
}
