{
 "cells": [
  {
   "cell_type": "markdown",
   "id": "2c15f1a6-c501-4550-b83a-f93e2045fe71",
   "metadata": {},
   "source": [
    "# Example Use Cases of ***Tiny-TimeNAS***\n",
    "\n",
    "This notebook demonstrates the Python API of `Tiny-TimeNAS` package with step-by-step guidelines for **2** mainstream time-series applications on an IoT device, i.e., Arduino Nano 33 BLE Sense Lite."
   ]
  },
  {
   "cell_type": "markdown",
   "id": "a6f55f74-d4fa-42ef-9a30-92cfd0fd63f9",
   "metadata": {},
   "source": [
    "## 0. Setup and Configuration\n",
    "\n",
    "Install required dependencies and import necessary packages and libraries."
   ]
  },
  {
   "cell_type": "code",
   "execution_count": null,
   "id": "2111d6c8-34f4-46b3-b99e-883e4926d144",
   "metadata": {
    "scrolled": true
   },
   "outputs": [],
   "source": [
    "!pip install tensorflow pandas numpy scikit-learn sktime silabs-mltk tflite-runtime\n",
    "# Install xxd if it is not available\n",
    "!apt-get update && apt-get -qq install xxd\n",
    "# !apt install -y xxd"
   ]
  },
  {
   "cell_type": "code",
   "execution_count": 1,
   "id": "dc3c8c28-7271-4afa-92f1-39aa9ed7229c",
   "metadata": {},
   "outputs": [],
   "source": [
    "# import utilitiy packages\n",
    "import os, sys, gc, warnings, logging\n",
    "import json, time, glob, math\n",
    "\n",
    "# determine GPU number\n",
    "os.environ[\"CUDA_DEVICE_ORDER\"] = \"PCI_BUS_ID\"\n",
    "os.environ[\"CUDA_VISIBLE_DEVICES\"] = \"7\" # use \"-1\" for CPU\n",
    "os.environ[\"TF_FORCE_GPU_ALLOW_GROWTH\"] = \"true\"\n",
    "os.environ['TF_CPP_MIN_LOG_LEVEL'] = '2' # hide INFO and WARNING messages\n",
    "\n",
    "# define paths to model files\n",
    "MODELS_DIR = 'models/'\n",
    "MODEL_TF = MODELS_DIR + 'model.pb'\n",
    "MODEL_NO_QUANT_TFLITE = MODELS_DIR + 'model_no_quant.tflite'\n",
    "MODEL_TFLITE = MODELS_DIR + 'model.tflite'\n",
    "MODEL_TFLITE_MICRO = MODELS_DIR + 'model.cpp'\n",
    "SEED = 7\n",
    "\n",
    "os.makedirs(MODELS_DIR, exist_ok=True)\n",
    "\n",
    "logging.disable(logging.WARNING)\n",
    "warnings.filterwarnings('ignore')"
   ]
  },
  {
   "cell_type": "code",
   "execution_count": 2,
   "id": "cdfeba24-3a32-45ec-9ab0-925ec94ea492",
   "metadata": {},
   "outputs": [
    {
     "name": "stderr",
     "output_type": "stream",
     "text": [
      "2023-06-14 09:50:21.243829: E tensorflow/stream_executor/cuda/cuda_blas.cc:2981] Unable to register cuBLAS factory: Attempting to register factory for plugin cuBLAS when one has already been registered\n"
     ]
    }
   ],
   "source": [
    "# import basic libraries\n",
    "import random\n",
    "\n",
    "import tensorflow as tf\n",
    "import pandas as pd\n",
    "import numpy as np\n",
    "\n",
    "from tensorflow import keras\n",
    "\n",
    "# Set a \"seed\" value, so we get the same random numbers each time we run this notebook for reproducible results.\n",
    "random.seed(SEED)\n",
    "np.random.seed(SEED)\n",
    "tf.random.set_seed(SEED)"
   ]
  },
  {
   "cell_type": "code",
   "execution_count": 3,
   "id": "c2796db7-d1a0-4e10-b37c-d4619a9c67d4",
   "metadata": {},
   "outputs": [
    {
     "name": "stdout",
     "output_type": "stream",
     "text": [
      "{'anomaly_detection': ['AirTemperature', 'Walking1', 'Walking5'], 'classification': ['AsphaltObstacles', 'BasicMotions', 'Handwriting', 'MotionSenseHAR', 'UWaveGestureLibrary'], 'regression': ['BeijingPM10Quality', 'BeijingPM25Quality']}\n"
     ]
    }
   ],
   "source": [
    "# import Tiny-TimeNAS related packages\n",
    "from tiny_tnas.searcher import Searcher\n",
    "from tiny_tnas.converters import quantize_model\n",
    "from tiny_tnas.profiler import get_model_size\n",
    "from tiny_tnas.data_loader import load_dataset, AVAILABEL_DATASETS\n",
    "\n",
    "# set search parameters for consistency across tasks\n",
    "MAX_RAM = 128\n",
    "MAX_FLASH = 256\n",
    "N_CANDIDATES = 100\n",
    "\n",
    "# datasets having features similar to Arduino Nano 33 BLE Sense\n",
    "print(AVAILABEL_DATASETS)"
   ]
  },
  {
   "cell_type": "markdown",
   "id": "109bc9ea-3377-467a-82c8-8e414ed88b7a",
   "metadata": {},
   "source": [
    "## 1. Time Series Classificatoin: *Human Activity Recognition*"
   ]
  },
  {
   "cell_type": "code",
   "execution_count": 4,
   "id": "76e684a7-11ef-45df-b1b2-031f901c1d10",
   "metadata": {},
   "outputs": [],
   "source": [
    "# define the target analysis task\n",
    "task = 'classification'"
   ]
  },
  {
   "cell_type": "markdown",
   "id": "3b0db8ff-2460-439d-aa01-1a0e609767a9",
   "metadata": {},
   "source": [
    "### 1.1 Load Dataset\n",
    "The data was generated as part of a student project where four students performed four activities whilst wearing a smart watch. The watch collects 3D accelerometer and a 3D gyroscope (i.e., **6 features**). It consists of four classes, which are walking, resting, running and badminton. Participants were required to record motion a total of five times, and the data is sampled once every tenth of a second, for a ten second period. (i.e., **10Hz** with total of 100 data points / sample)\n",
    "\n",
    "**LABEL ID**: \\[0:badminton, 1:running, 2:standing, 3:walking\\]"
   ]
  },
  {
   "cell_type": "code",
   "execution_count": 5,
   "id": "2a657f33-1584-4323-99b3-22d8a2e6b17f",
   "metadata": {},
   "outputs": [],
   "source": [
    "x_train, y_train, x_test, y_test = load_dataset(task=task, data_name='BasicMotions')"
   ]
  },
  {
   "cell_type": "markdown",
   "id": "8d660f27-52d5-4eed-bf08-73b255fef703",
   "metadata": {},
   "source": [
    "### 1.2 Run Neural Architecture Search\n",
    "Initialize the searcher with given hardware constraints and relevant configurations.\n",
    "Here, we set the maximum of RAM to '128KB', maximum of model size to '256KB', and target architecture types to 'ALL' (default).\n",
    "\n",
    "Then, we run the search with random sampling from the search space using a single iteration of '1000' candidate architectures.\n",
    "Following [MCUNet](https://mcunet.mit.edu/), we use the FLOPS to score the candidate architectures because *an architecture that accommoadate higher FLOPs under memory constraint (#params) can produce better model*.\n"
   ]
  },
  {
   "cell_type": "code",
   "execution_count": null,
   "id": "c7d028b0-14cf-45c9-8234-8824a1c1cb4c",
   "metadata": {
    "scrolled": true
   },
   "outputs": [],
   "source": [
    "# search architecture with network profiling\n",
    "start_time = time.time()\n",
    "searcher = Searcher(max_ram=MAX_RAM, max_flash=MAX_FLASH, task=task, x_train=x_train, y_train=y_train)\n",
    "cand_models = searcher.run_search(n_archs=N_CANDIDATES, top_k=1, allow_mix=False, proxy='zico')\n",
    "print(f\"search time: {time.time() - start_time:.2f} seconds!\")"
   ]
  },
  {
   "cell_type": "code",
   "execution_count": null,
   "id": "c3f464d8-5672-45d7-ac77-ec839a431e40",
   "metadata": {},
   "outputs": [],
   "source": [
    "print('MODEL PROFILE')\n",
    "print(cand_models[0]['profile'])"
   ]
  },
  {
   "cell_type": "code",
   "execution_count": null,
   "id": "75cfd193-a5b1-497c-87ce-c691737fa557",
   "metadata": {},
   "outputs": [],
   "source": [
    "# compile and print model summary\n",
    "model = cand_models[0]['model']\n",
    "model.compile(optimizer='adam', loss='sparse_categorical_crossentropy', metrics=['sparse_categorical_accuracy'])\n",
    "model.summary()"
   ]
  },
  {
   "cell_type": "markdown",
   "id": "4fcbe052-2711-40ab-a197-cbf3e3b73d36",
   "metadata": {},
   "source": [
    "### 1.3 Train the Found Model/Architecture"
   ]
  },
  {
   "cell_type": "code",
   "execution_count": null,
   "id": "c96f5d5b-a312-4ac4-afa0-aff6867b2854",
   "metadata": {
    "scrolled": true
   },
   "outputs": [],
   "source": [
    "NUM_EPOCH, NUM_BATCH = 100, 32\n",
    "\n",
    "es = keras.callbacks.EarlyStopping(monitor='val_sparse_categorical_accuracy', mode='max', patience=10, restore_best_weights=True)\n",
    "history = model.fit(x_train, y_train, epochs=NUM_EPOCH, batch_size=NUM_BATCH, validation_data=(x_test, y_test), callbacks=[es])"
   ]
  },
  {
   "cell_type": "markdown",
   "id": "bf339c25-bcc6-4638-901f-c0c921f8beec",
   "metadata": {},
   "source": [
    "### 1.4 Evaluate the Trained Model"
   ]
  },
  {
   "cell_type": "code",
   "execution_count": null,
   "id": "8c1993f7-6df2-4d7b-b374-628f388156aa",
   "metadata": {},
   "outputs": [],
   "source": [
    "from tiny_tnas.evaluator import evaluate_classification\n",
    "\n",
    "# calculate and print the loss on our test dataset\n",
    "loss = model.evaluate(x_test, y_test)\n",
    "\n",
    "# make predictions based on our test dataset\n",
    "y_pred = model.predict(x_test)\n",
    "\n",
    "perf = evaluate_classification(y_test, y_pred)\n",
    "print(f\"ACC\\tAUC\\tF1\")\n",
    "print(f\"{perf['accuracy']*100:.2f}\\t{perf['auc']*100:.2f}\\t{perf['f1']*100:.2f}\")"
   ]
  },
  {
   "cell_type": "markdown",
   "id": "7b2df48a-bac9-43f3-9b80-006b42393a60",
   "metadata": {},
   "source": [
    "### 1.5 Generate a Quantized TensorFlow Lite Model for Microcontrollers\n",
    "Convert the TensorFlow Lite quantized model into a C source file that can be loaded by TensorFlow Lite for Microcontrollers."
   ]
  },
  {
   "cell_type": "code",
   "execution_count": null,
   "id": "c587fa33-144b-4e05-96d1-e91758c1ba92",
   "metadata": {},
   "outputs": [],
   "source": [
    "# convert and quantize the model\n",
    "quantized_model = quantize_model(model, x_train, mode='int')\n",
    "# compute quantized model size\n",
    "print(get_model_size(quantized_model), 'KB')\n",
    "# Save the model to disk\n",
    "open(MODEL_TFLITE, \"wb\").write(quantized_model)"
   ]
  },
  {
   "cell_type": "code",
   "execution_count": null,
   "id": "e324d5af-29cf-4ec4-a65c-153217ea845d",
   "metadata": {},
   "outputs": [],
   "source": [
    "# Install xxd if it is not available\n",
    "!apt-get update && apt-get -qq install xxd\n",
    "# Convert to a C source file\n",
    "!xxd -i {MODEL_TFLITE} > {MODEL_TFLITE_MICRO}\n",
    "# Update variable names\n",
    "REPLACE_TEXT = MODEL_TFLITE.replace('/', '_').replace('.', '_')\n",
    "!sed -i 's/'{REPLACE_TEXT}'/g_model/g' {MODEL_TFLITE_MICRO}"
   ]
  },
  {
   "cell_type": "code",
   "execution_count": null,
   "id": "69887fdf-444a-4b7b-b1db-57458157f8aa",
   "metadata": {
    "scrolled": true
   },
   "outputs": [],
   "source": [
    "# Print the C source file\n",
    "!tail -100 {MODEL_TFLITE_MICRO}"
   ]
  },
  {
   "cell_type": "markdown",
   "id": "662802e2-9e4d-4259-ba5e-90b8e6709d09",
   "metadata": {},
   "source": [
    "## 2. Time Series (Extrinsic) Regression: *Air Quality Prediction*"
   ]
  },
  {
   "cell_type": "code",
   "execution_count": null,
   "id": "73d7b147-02ae-4c69-b0a6-d67044cc19ff",
   "metadata": {},
   "outputs": [],
   "source": [
    "# define the target analysis task\n",
    "task = 'regression'"
   ]
  },
  {
   "cell_type": "markdown",
   "id": "913bf685-28c5-4e02-98a1-18127f2d2633",
   "metadata": {},
   "source": [
    "### 1.1 Load Dataset\n",
    "\n",
    "This dataset is part of the Monash, UEA & UCR time series regression repository. http://tseregression.org/ \n",
    "\n",
    "The goal of this dataset is to predict PM2.5 air quality in the city of Beijing. This dataset contains 17532 time series with 9 dimensions.  This includes hourly air pollutants measurments (SO2, NO2, CO and O3), temperature, pressure, dew point, rainfall and windspeed measurments from 12 nationally controlled air quality monitoring sites. The air-quality data are from the Beijing Municipal Environmental Monitoring Center. The meteorological data in each air-quality site are matched with the nearest weather station from the China Meteorological Administration. The time period is from March 1st, 2013 to February 28th, 2017. Please refer to https://archive.ics.uci.edu/ml/datasets/Beijing+Multi-Site+Air-Quality+Data for more details"
   ]
  },
  {
   "cell_type": "code",
   "execution_count": null,
   "id": "ff009bbd-2054-4454-b81f-737cedeb2ef1",
   "metadata": {},
   "outputs": [],
   "source": [
    "x_train, y_train, x_test, y_test = load_dataset(task=task, data_name='BeijingPM25Quality')"
   ]
  },
  {
   "cell_type": "markdown",
   "id": "780760b2-cd33-4b7d-a7af-9d1d5b31b9c6",
   "metadata": {},
   "source": [
    "Originally, the dataset has 9 dimensions. However, our Arduino can measure only (SO2, ~~NO2~~, CO and ~~O3~~), temperature, pressure, ~~dew point~~, ~~rainfall~~ and ~~windspeed~~. \n",
    "\n",
    "Thus, we may need to filter out other undetectable features to make it compatible with the Arduino."
   ]
  },
  {
   "cell_type": "code",
   "execution_count": null,
   "id": "42e9d692-6445-4559-9e65-7fc45d12e1cc",
   "metadata": {},
   "outputs": [],
   "source": [
    "x_train = x_train[:, :, [0, 2, 4, 5]]\n",
    "x_test = x_test[:, :, [0, 2, 4, 5]]"
   ]
  },
  {
   "cell_type": "markdown",
   "id": "b1475859-ae00-41af-a61f-8c16d745e8db",
   "metadata": {},
   "source": [
    "### 1.2 Run Neural Architecture Search"
   ]
  },
  {
   "cell_type": "code",
   "execution_count": null,
   "id": "21b291cb-e25a-4868-9a09-88d5acf30010",
   "metadata": {},
   "outputs": [],
   "source": [
    "# search architecture with network profiling\n",
    "start_time = time.time()\n",
    "searcher = Searcher(max_ram=MAX_RAM, max_flash=MAX_FLASH, task=task, x_train=x_train, y_train=y_train)\n",
    "cand_models = searcher.run_search(n_archs=N_CANDIDATES, top_k=1, allow_mix=False, proxy='zico')\n",
    "print(f\"search time: {time.time() - start_time:.2f} seconds!\")"
   ]
  },
  {
   "cell_type": "code",
   "execution_count": null,
   "id": "50734013-405c-4701-bbf5-09020a086782",
   "metadata": {},
   "outputs": [],
   "source": [
    "print('MODEL PROFILE')\n",
    "print(cand_models[0]['profile'])"
   ]
  },
  {
   "cell_type": "code",
   "execution_count": null,
   "id": "ebde9807-94e2-4604-9760-ab03feac561a",
   "metadata": {},
   "outputs": [],
   "source": [
    "# compile and print model summary\n",
    "model = cand_models[0]['model']\n",
    "model.compile(optimizer='adam', loss='mse', metrics=['mse', 'mae'])\n",
    "model.summary()"
   ]
  },
  {
   "cell_type": "markdown",
   "id": "627eb330-e67e-4053-a33d-de21278f030e",
   "metadata": {},
   "source": [
    "### 1.3 Train the Found Model/Architecture"
   ]
  },
  {
   "cell_type": "code",
   "execution_count": null,
   "id": "9e3c9480-54b6-4c25-9b18-d2ac10852551",
   "metadata": {},
   "outputs": [],
   "source": [
    "NUM_EPOCH, NUM_BATCH = 100, 32\n",
    "\n",
    "es = keras.callbacks.EarlyStopping(monitor='val_loss', mode='min', patience=10, restore_best_weights=True)\n",
    "history = model.fit(x_train, y_train, epochs=NUM_EPOCH, batch_size=NUM_BATCH, validation_data=(x_test, y_test), callbacks=[es])"
   ]
  },
  {
   "cell_type": "markdown",
   "id": "b7b583ee-b12f-438c-87e8-2dd3ead9deab",
   "metadata": {},
   "source": [
    "### 1.4 Evaluate the Trained Model"
   ]
  },
  {
   "cell_type": "code",
   "execution_count": null,
   "id": "036467a4-2df4-4ac4-ba0c-66f14612e0a3",
   "metadata": {},
   "outputs": [],
   "source": [
    "from tiny_tnas.evaluator import evaluate_regression\n",
    "\n",
    "# calculate and print the loss on our test dataset\n",
    "loss = model.evaluate(x_test, y_test)\n",
    "\n",
    "# make predictions based on our test dataset\n",
    "y_pred = model.predict(x_test)\n",
    "\n",
    "perf = evaluate_regression(y_test, y_pred)\n",
    "print(f\"RMSE\\tMSE\\tMAE\")\n",
    "print(f\"{perf['rmse']:.4f}\\t{perf['mse']:.4f}\\t{perf['mae']:.4f}\")"
   ]
  },
  {
   "cell_type": "markdown",
   "id": "0166e8d6-2c66-4086-abe6-f946913f059b",
   "metadata": {},
   "source": [
    "### 1.5 Generate a Quantized TensorFlow Lite Model for Microcontrollers\n",
    "Convert the TensorFlow Lite quantized model into a C source file that can be loaded by TensorFlow Lite for Microcontrollers."
   ]
  },
  {
   "cell_type": "code",
   "execution_count": null,
   "id": "2b28bd66-2db7-496e-a301-3e4dd50125e8",
   "metadata": {},
   "outputs": [],
   "source": [
    "# convert and quantize the model\n",
    "quantized_model = quantize_model(model, x_train, mode='float')\n",
    "# compute quantized model size\n",
    "print(get_model_size(quantized_model), 'KB')\n",
    "# Save the model to disk\n",
    "open(MODEL_TFLITE, \"wb\").write(quantized_model)"
   ]
  },
  {
   "cell_type": "code",
   "execution_count": null,
   "id": "a8e1d6f0-63d0-412a-9809-ca8ed6c3a6ec",
   "metadata": {},
   "outputs": [],
   "source": [
    "# Install xxd if it is not available\n",
    "!apt-get update && apt-get -qq install xxd\n",
    "# Convert to a C source file\n",
    "!xxd -i {MODEL_TFLITE} > {MODEL_TFLITE_MICRO}\n",
    "# Update variable names\n",
    "REPLACE_TEXT = MODEL_TFLITE.replace('/', '_').replace('.', '_')\n",
    "!sed -i 's/'{REPLACE_TEXT}'/g_model/g' {MODEL_TFLITE_MICRO}"
   ]
  },
  {
   "cell_type": "code",
   "execution_count": null,
   "id": "1a516558-b779-4e3c-b70c-afae5d6c789c",
   "metadata": {
    "scrolled": true
   },
   "outputs": [],
   "source": [
    "# Print the C source file\n",
    "!tail -100 {MODEL_TFLITE_MICRO}"
   ]
  },
  {
   "cell_type": "code",
   "execution_count": null,
   "id": "a5c3b408-2053-4655-9764-f9097e115929",
   "metadata": {},
   "outputs": [],
   "source": []
  }
 ],
 "metadata": {
  "kernelspec": {
   "display_name": "TinyTimeNAS",
   "language": "python",
   "name": "tinytimenas"
  },
  "language_info": {
   "codemirror_mode": {
    "name": "ipython",
    "version": 3
   },
   "file_extension": ".py",
   "mimetype": "text/x-python",
   "name": "python",
   "nbconvert_exporter": "python",
   "pygments_lexer": "ipython3",
   "version": "3.9.16"
  }
 },
 "nbformat": 4,
 "nbformat_minor": 5
}
